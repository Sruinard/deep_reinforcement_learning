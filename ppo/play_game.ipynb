{
 "cells": [
  {
   "cell_type": "code",
   "execution_count": 37,
   "metadata": {},
   "outputs": [],
   "source": [
    "%load_ext autoreload\n",
    "%autoreload 2"
   ]
  },
  {
   "cell_type": "code",
   "execution_count": 48,
   "metadata": {},
   "outputs": [],
   "source": [
    "import os\n",
    "\n",
    "import envpool\n",
    "import gymnasium as gym\n",
    "import numpy as np\n",
    "from moviepy.editor import ImageSequenceClip\n",
    "\n",
    "import ppo_main"
   ]
  },
  {
   "cell_type": "code",
   "execution_count": 49,
   "metadata": {},
   "outputs": [
    {
     "name": "stdout",
     "output_type": "stream",
     "text": [
      "MoviePy - Building file ./assets/pong.gif with imageio.\n"
     ]
    },
    {
     "name": "stderr",
     "output_type": "stream",
     "text": [
      "                                                                                                                                                                                                                                                                                                                                                                                                                                                                                                                                                                                                                                                                                                                                                                                                                                                                                                                                                                                                                                       \r"
     ]
    }
   ],
   "source": [
    "# import standard gym to visualize\n",
    "env = gym.make(\"CartPole-v1\", render_mode=\"rgb_array\")\n",
    "train_config = ppo_main.TrainConfig()\n",
    "state = ppo_main.create_train_state(\n",
    "    train_config, env.observation_space.shape, env.action_space.n)\n",
    "state = ppo_main.load_checkpoint(train_config.checkpoint_dir, state)\n",
    "\n",
    "rewards, frames = ppo_main.play_game(state, env, n_episodes=2, collect_frames=True) \n",
    "clip = ImageSequenceClip(list(frames), fps=25)\n",
    "if not os.path.exists(\"./assets\"):\n",
    "    os.makedirs(\"./assets\")\n",
    "clip.write_gif(\"./assets/pong.gif\", fps=25)"
   ]
  },
  {
   "cell_type": "code",
   "execution_count": null,
   "metadata": {},
   "outputs": [],
   "source": []
  }
 ],
 "metadata": {
  "kernelspec": {
   "display_name": "deeprlcpu",
   "language": "python",
   "name": "python3"
  },
  "language_info": {
   "codemirror_mode": {
    "name": "ipython",
    "version": 3
   },
   "file_extension": ".py",
   "mimetype": "text/x-python",
   "name": "python",
   "nbconvert_exporter": "python",
   "pygments_lexer": "ipython3",
   "version": "3.9.15"
  },
  "orig_nbformat": 4,
  "vscode": {
   "interpreter": {
    "hash": "818263ce9616e01904a4065a4f6c5ec63cf14fa0e758d4750ad8aa0ea21b4b6d"
   }
  }
 },
 "nbformat": 4,
 "nbformat_minor": 2
}
